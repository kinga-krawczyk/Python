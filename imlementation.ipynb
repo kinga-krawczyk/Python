{
 "cells": [
  {
   "cell_type": "markdown",
   "metadata": {},
   "source": [
    "# Exploring OpenEEW data"
   ]
  },
  {
   "cell_type": "markdown",
   "metadata": {},
   "source": [
    "## Import openeew package"
   ]
  },
  {
   "cell_type": "code",
   "execution_count": 2,
   "metadata": {},
   "outputs": [],
   "source": [
    "from openeew.data.aws import AwsDataClient\n",
    "from openeew.data.df import get_df_from_records"
   ]
  },
  {
   "cell_type": "markdown",
   "metadata": {},
   "source": [
    "## Import other packages"
   ]
  },
  {
   "cell_type": "code",
   "execution_count": 3,
   "outputs": [],
   "source": [
    "import folium\n",
    "from datetime import datetime\n",
    "import plotnine as pn\n",
    "import pandas as pd\n",
    "from geopy.distance import distance\n",
    "import aioboto3\n",
    "# Allow nested asyncio event loop\n",
    "# See https://github.com/erdewit/nest_asyncio\n",
    "import nest_asyncio\n",
    "nest_asyncio.apply()\n",
    "import pandas as pd\n",
    "import seaborn as sns\n",
    "import matplotlib.pyplot as plt\n",
    "import scipy.stats\n",
    "import pywt\n",
    "import numpy as np\n",
    "import statistics\n",
    "from numpy import dot, sum, tile, linalg\n",
    "from numpy.linalg import inv, det\n",
    "import math\n",
    "from math import log, pi, exp"
   ],
   "metadata": {
    "collapsed": false,
    "pycharm": {
     "name": "#%%\n"
    }
   }
  },
  {
   "cell_type": "markdown",
   "source": [
    "# NEW CODE\n",
    "## Data tempreture"
   ],
   "metadata": {
    "collapsed": false
   }
  },
  {
   "cell_type": "code",
   "execution_count": 4,
   "outputs": [],
   "source": [
    "#BORUJErD\n",
    "#te są z artukułu\n",
    "#tempreture_LST = [24, 30, 24, 30, 17, 19, 17, 16, 30, 30, 31, 27, 23, 28, 28, 28, 27, 27, 21, 26, 17, 36, 30, 27, 25, 21, 17, 25]\n",
    "#tempreture_AT = [19, 19, 19, 22, 23, 22, 17, 15, 19, 21, 20, 22, 20, 19, 16, 16, 16, 17, 20, 21, 20, 23, 16, 21, 16, 11, 16, 19]\n",
    "#te 'moje' dla tych są wyniki\n",
    "#tempreture_LST = [37, 47, 22, 47, 37, 32, 27, 37, 32, 22, 32, 32, 27, 32, 32, 32, 22, 27, 27, 22, 52, 42 ,37, 32, 22, 17, 12 ,22]\n",
    "#tempreture_AT = [16, 16, 15, 16, 21, 16, 11, 14, 16, 18, 20, 17 ,17, 15, 14, 15, 16, 16, 12, 13, 17, 20, 21, 19, 17, 7, 12, 14]\n",
    "#PIJIJIAPAN\n",
    "#tempreture_LST = [ 47, 57, 57, 52, 52, 42, 52, 32, 37, 32, 42, 42, 37, 32, 42, 47, 47, 37, 32, 42, 42, 47, 52, 37, 52, 47, 52, 47]\n",
    "#tempreture_AT = [ 32.2, 32.1, 32.1, 32.1, 32.1, 32.1, 32.1, 32.1, 32.1, 32.1, 32.1, 32, 32, 32, 32, 32, 32, 32, 32, 32, 32, 32, 32, 32, 32, 32, 32, 32, 32]\n",
    "#CRUCECITA\n",
    "#tempreture_LST = [47, 52, 47, 32, 37, 42, 42, 37, 32, 27, 32, 32, 32, 37, 27, 32, 32, 37, 37, 37, 42, 37, 37, 37, 37, 37, 36, 27]\n",
    "#tempreture_AT = [32, 33, 30, 30, 27, 28, 28, 28, 31, 26, 26, 28, 26, 27, 30, 31, 29, 28, 26, 26, 28, 29, 30, 29, 29, 30, 29, 29]\n",
    "#IXTEPEC\n",
    "#tempreture_LST = [32, 32, 32, 27, 32, 32, 32, 32, 22, 22, 27, 27, 27, 27, 27, 37, 44, 37, 22, 37, 17, 22, 27, 27, 32, 22, 27, 32]\n",
    "#tempreture_AT = [25, 23, 21, 16, 20, 21, 21, 16, 19, 23, 21, 16, 15, 13, 17, 15, 17, 22, 23, 26, 27, 24, 23, 24, 25, 26, 22, 24]\n",
    "#NORDE DE ISLA\n",
    "tempreture_LST = [27, 22, 22, 27, 27, 22, 22, 27, 22, 22, 22, 22, 32, 37, 37, 27, 27, 27, 32, 32, 32, 37, 27, 27, 27, 27, 27, 27]\n",
    "tempreture_AT = [32, 20, 17, 25, 23, 20, 24, 26, 26, 26, 21, 22, 24, 27, 30, 26, 25, 25, 29, 29, 29, 29, 29, 26, 27, 23, 25, 26]"
   ],
   "metadata": {
    "collapsed": false,
    "pycharm": {
     "name": "#%%\n"
    }
   }
  },
  {
   "cell_type": "markdown",
   "source": [
    "# 1"
   ],
   "metadata": {
    "collapsed": false
   }
  },
  {
   "cell_type": "markdown",
   "source": [
    "## Kwartilinan"
   ],
   "metadata": {
    "collapsed": false
   }
  },
  {
   "cell_type": "markdown",
   "source": [],
   "metadata": {
    "collapsed": false
   }
  },
  {
   "cell_type": "code",
   "execution_count": 73,
   "outputs": [],
   "source": [
    "#zachowanie uważane za anormalne kiedy: p = ±100×(|Dx|−k)/k\n",
    "#p - procent zmian parametrów ze stanu niezakłóconego\n",
    "#p = 80–85%, że wykryto niższy lub wyższy nieprawidłowy sygnał\n",
    "\n",
    "\n",
    "# Dx = wartość bezwzględna różniczki\n",
    "# x = różniczka (a cóż to????) to jest jakby szukana? a jak jest oznaczane Q2?\n",
    "#k - optymalna wartość progowa ... WHAAT?????, ja przyjęłam dla stopnia kwartyla\n",
    "#IQR - rozstęp kwartylowy\n",
    "\n",
    "\n",
    "#TRZEBA OBLICZYĆ XHIGH I HLOW"
   ],
   "metadata": {
    "collapsed": false,
    "pycharm": {
     "name": "#%%\n"
    }
   }
  },
  {
   "cell_type": "code",
   "execution_count": 5,
   "outputs": [
    {
     "name": "stdout",
     "output_type": "stream",
     "text": [
      "Tempreture at day (LST) :  [22, 22, 22, 22, 22, 22, 22, 22, 27, 27, 27, 27, 27, 27, 27, 27, 27, 27, 27, 27, 27, 32, 32, 32, 32, 37, 37, 37]\n",
      "Q1 quantile of SLtractors :  22.0\n",
      "Q2 quantile of SLtractors :  27.0\n",
      "Q3 quantile of SLtractors :  28.25\n",
      "Median: 27.0\n",
      "IQR: 6.25\n",
      "|Dx| parameter:  0.8\n",
      "k value: 1\n",
      "Percent anomaly value:  19.999999999999996\n"
     ]
    }
   ],
   "source": [
    "#tempreture at day (LST): odstęp\n",
    "#badana próbka\n",
    "#x to : 1/4 dla Q1, 1/2 DLA Q2 I 3/4 DLA Q3 I 1 DLA Q4\n",
    "x = 22 #wartość temp. w badanym dniu\n",
    "tempreture_LST.sort()\n",
    "print(\"Tempreture at day (LST) : \", tempreture_LST)\n",
    "print(\"Q1 quantile of SLtractors : \", np.quantile(tempreture_LST, .25)) #1-szy kwartyl\n",
    "print(\"Q2 quantile of SLtractors : \", np.quantile(tempreture_LST, .50)) #mediana\n",
    "print(\"Q3 quantile of SLtractors : \", np.quantile(tempreture_LST, .75)) #3-ci kwartyl\n",
    "\n",
    "#median = Q2\n",
    "Q1 = np.quantile(tempreture_LST, .25)\n",
    "Q3 = np.quantile(tempreture_LST, .75)\n",
    "median1 = statistics.median(tempreture_LST)\n",
    "print(\"Median:\", median1)\n",
    "\n",
    "#IQR\n",
    "IQRdayLST = np.quantile(tempreture_LST, .75) - np.quantile(tempreture_LST, .25) #obliczenie międzykwartyla\n",
    "print(\"IQR:\", IQRdayLST)\n",
    "#k parameter który jest stopniem kwartyla\n",
    "Dx = (x - median1)/IQRdayLST #różniczka\n",
    "Dx = abs(Dx) #|różniczka|\n",
    "print(\"|Dx| parameter: \", Dx)\n",
    "k = 1 #kwartyl\n",
    "print(\"k value:\", k)\n",
    "# percent anomaly\n",
    "p = 100*(Dx - k)/k #procent anomalii\n",
    "print(\"Percent anomaly value: \", abs(p))\n"
   ],
   "metadata": {
    "collapsed": false,
    "pycharm": {
     "name": "#%%\n"
    }
   }
  },
  {
   "cell_type": "code",
   "execution_count": 75,
   "outputs": [
    {
     "name": "stdout",
     "output_type": "stream",
     "text": [
      "Tempreture at day (AT) :  [17, 20, 20, 21, 22, 23, 23, 24, 24, 25, 25, 25, 25, 26, 26, 26, 26, 26, 26, 27, 27, 29, 29, 29, 29, 29, 30, 32]\n",
      "Q1 quantile of SLtractors :  23.75\n",
      "Q2 quantile of SLtractors :  26.0\n",
      "Q3 quantile of SLtractors :  27.5\n",
      "IQR: 3.75\n",
      "k parameter: 1\n",
      "Dx parameter: 0.5333333333333333\n",
      "|Dx| parameter:  0.5333333333333333\n",
      "Percent anomaly value:  46.666666666666664\n"
     ]
    }
   ],
   "source": [
    "#Tempreture at day (AT): odst ęp\n",
    "\n",
    "x = 28\n",
    "tempreture_AT.sort()\n",
    "print(\"Tempreture at day (AT) : \", tempreture_AT)\n",
    "print(\"Q1 quantile of SLtractors : \", np.quantile(tempreture_AT, .25))\n",
    "print(\"Q2 quantile of SLtractors : \", np.quantile(tempreture_AT, .50))\n",
    "print(\"Q3 quantile of SLtractors : \", np.quantile(tempreture_AT, .75))\n",
    "\n",
    "#median\n",
    "MM = statistics.median(tempreture_AT)\n",
    "q1 = np.quantile(tempreture_AT, .25)\n",
    "q3 = np.quantile(tempreture_AT, .75)\n",
    "#IQR\n",
    "IQRdayAT = np.quantile(tempreture_AT, .75) - np.quantile(tempreture_AT, .25)\n",
    "print(\"IQR:\",IQRdayAT)\n",
    "\n",
    "#k parameter\n",
    "k = 1\n",
    "print(\"k parameter:\", k)\n",
    "#x to : 1/4 dla Q1, 1/2 DLA Q2 I 3/4 DLA Q3 I 1 DLA Q4\n",
    "Dx = (x- MM)/IQRdayAT\n",
    "print(\"Dx parameter:\", Dx)\n",
    "Dx = abs(Dx)\n",
    "print(\"|Dx| parameter: \", Dx)\n",
    "\n",
    "# percent anomaly\n",
    "p1 = 100*(Dx - k)/k\n",
    "print(\"Percent anomaly value: \", abs(p1))\n",
    "\n"
   ],
   "metadata": {
    "collapsed": false,
    "pycharm": {
     "name": "#%%\n"
    }
   }
  },
  {
   "cell_type": "markdown",
   "source": [
    "# 2"
   ],
   "metadata": {
    "collapsed": false
   }
  },
  {
   "cell_type": "markdown",
   "source": [
    "## Wavelet transform"
   ],
   "metadata": {
    "collapsed": false
   }
  },
  {
   "cell_type": "code",
   "execution_count": 78,
   "outputs": [
    {
     "name": "stdout",
     "output_type": "stream",
     "text": [
      "Approximation coefficient:  [36.41599923 32.88046533 36.41599923 32.88046533 35.29527989 31.11269837\n",
      " 31.41299421 51.20518247 43.01339532 38.65743791 44.60778638 48.96374379\n",
      " 38.18376618 38.18376618 38.18376618]\n",
      "Detail coefficient:  [ 3.06186218e+00 -3.06186218e+00  3.06186218e+00 -3.06186218e+00\n",
      " -1.12071934e+00  2.66453526e-15  1.12071934e+00  5.47667674e+00\n",
      " -1.29409523e+00  1.76776695e+00 -2.41481457e+00 -2.88848629e+00\n",
      " -1.33226763e-15 -1.33226763e-15 -1.33226763e-15]\n",
      "Anomaly value:  33.875\n"
     ]
    },
    {
     "data": {
      "text/plain": "<Figure size 432x288 with 1 Axes>",
      "image/png": "[encoded data removed]"
     },
     "metadata": {
      "needs_background": "light"
     },
     "output_type": "display_data"
    }
   ],
   "source": [
    "tempreture_LST = [37, 47, 22, 47, 37, 32, 27, 37, 32, 22, 32, 32, 27, 32, 32, 32, 22, 27, 27, 22, 52, 42 ,37, 32, 22, 17, 12 ,22] #dane\n",
    "#print(sympy.integrate(tempreture_LST_DAY*(x-b/a)))\n",
    "cA, cD = pywt.dwt(tempreture_LST, 'db2') #falka daubedies co jest ok bo w artykule tej użyto\n",
    "#cA - Współczynnik aproksymacji\n",
    "#cD -i szczegółowości.\n",
    "print(\"Approximation coefficient: \", cA)\n",
    "print(\"Detail coefficient: \", cD)\n",
    "median1 = statistics.median(tempreture_LST)\n",
    "plt.grid(True)\n",
    "t = np.average(30)\n",
    "plt.plot(cA, 'r')\n",
    "plt.show()\n"
   ],
   "metadata": {
    "collapsed": false,
    "pycharm": {
     "name": "#%%\n"
    }
   }
  },
  {
   "cell_type": "markdown",
   "source": [
    "# 3"
   ],
   "metadata": {
    "collapsed": false
   }
  },
  {
   "cell_type": "markdown",
   "source": [
    "## Kalman filter"
   ],
   "metadata": {
    "collapsed": false
   }
  },
  {
   "cell_type": "code",
   "execution_count": 82,
   "outputs": [
    {
     "data": {
      "text/plain": "<Figure size 432x288 with 1 Axes>",
      "image/png": "[encoded data removed]"
     },
     "metadata": {
      "needs_background": "light"
     },
     "output_type": "display_data"
    }
   ],
   "source": [
    "from pykalman import KalmanFilter\n",
    "import numpy as np\n",
    "import matplotlib.pyplot as plt\n",
    "import time\n",
    "\n",
    "#dane, pierwsze miejsce AT, drugie LST\n",
    "measurements = np.asarray([(32,27),(20,22),(17,22),(25,27),(23,27),(20,22),(24,22),(26,27),(26,22),(23,22),(26,22),(21,22),(22,22),(24,32),(27,37),(30,37),(26,27),(25,27),(25,27),(29,32),(29,32),(29,37),(29,27),(26,27),(27,27),(23,27),(25,27),(26,27)])\n",
    "\n",
    "initial_state_mean = [measurements[0, 0],0,\n",
    "                      measurements[0, 1],0]\n",
    "\n",
    "transition_matrix = [[1, 1, 0, 1],\n",
    "                     [0, 1, 0, 1],\n",
    "                     [0, 0, 1, 1],\n",
    "                     [0, 0, 0, 1]]\n",
    "\n",
    "observation_matrix = [[1, 0, 0, 1],\n",
    "                      [0, 0, 1, 1]]\n",
    "\n",
    "kf1 = KalmanFilter(transition_matrices = transition_matrix,\n",
    "                   observation_matrices = observation_matrix,\n",
    "                   initial_state_mean = initial_state_mean)\n",
    "\n",
    "kf1 = kf1.em(measurements, n_iter=5)\n",
    "(smoothed_state_means, smoothed_state_covariances) = kf1.smooth(measurements)\n",
    "\n",
    "plt.figure(1)\n",
    "times = range(measurements.shape[0])\n",
    "plt.plot(times, measurements[:, 0], 'bo',\n",
    "         times, measurements[:, 1], 'ro',\n",
    "         times, smoothed_state_means[:, 0], 'b--',\n",
    "         times, smoothed_state_means[:, 2], 'r--',)\n",
    "plt.show()"
   ],
   "metadata": {
    "collapsed": false,
    "pycharm": {
     "name": "#%%\n"
    }
   }
  },
  {
   "cell_type": "code",
   "execution_count": 15,
   "outputs": [],
   "source": [
    "#EXAMPLE FOR FUNKCTIONS"
   ],
   "metadata": {
    "collapsed": false,
    "pycharm": {
     "name": "#%%\n"
    }
   }
  },
  {
   "cell_type": "code",
   "execution_count": 98,
   "outputs": [],
   "source": [
    "##### WYNIKI MIĘDZYKWARTYL\n",
    "#BORUJEND\n",
    "#1\n",
    "#wyniki pokrywają się z tymi z artykuła - okolice 26.03 anomalia 90% - 80-85% już jest uznana za anomalię\n",
    "#25.03 anomalia na poziomie 80%, późniejsze dni, pojaiwa się anomalia 100%\n",
    "#wcześniejsze dni - anomalia na poziomie 46,66666%, kiedy wcześniej zdarza się anomalia dla danych, dla T tez\n",
    "# zasada: anomalia dla lst i at nie powoduje że jest anomalia, at anoomalia a lst nie to nic, bo badam lst a at jest dodatkiem\n",
    "#lst -główny wskaźnik\n",
    "#\n",
    "\n",
    "#PIJIJIAPAN\n",
    "# w przypadku AT zmienność temperatury zmieniała się minimalnie,\n",
    "#7-my dzień????, 19.08, 23.08, 24.08, 27  na pewno (83,333), 21/22.08 ale tu zmiana temp. AT,\n",
    "#26(88%)\n",
    "#39, 30 (100%)\n",
    "# 01.09 91,6666%,05,07  , 02.09, 04,06  (83,3333),  03.09 (91.66666666666666%)\n",
    "#CRUCECITA\n",
    "#wykrycie dień przed trzęsieniem na poziomie 95%, 5 DNI WCZEŚNIEJ 100%,\n",
    "#IXTEPEC\n",
    "#ykryte dzień przed trzęsieniem. patrz na borujend\n",
    "#NORDE DE ISLA\n",
    "#brak wykrycia"
   ],
   "metadata": {
    "collapsed": false,
    "pycharm": {
     "name": "#%%\n"
    }
   }
  },
  {
   "cell_type": "code",
   "execution_count": 100,
   "outputs": [],
   "source": [
    "######## WYNIKI WAVELET\n",
    "#BORUJEND\n",
    "#wykrycie trzęsienia - 26.03 czyli ok\n",
    "\n",
    "#PIJIJIAPAN\n",
    "#już pierwszy dzień pomiaru???\n",
    "#11 i 13 dzień\n",
    "\n",
    "#CRUCECITA\n",
    "#10-ty dień obserwacji\n",
    "#1-szy dzień\n",
    "#IXTEPEC\n",
    "#8-my dzień obserwacji i 14-ty\n",
    "#NORDE DE ISLA\n",
    "#7-my, 10 i 11"
   ],
   "metadata": {
    "collapsed": false,
    "pycharm": {
     "name": "#%%\n"
    }
   }
  },
  {
   "cell_type": "code",
   "execution_count": null,
   "outputs": [],
   "source": [],
   "metadata": {
    "collapsed": false,
    "pycharm": {
     "name": "#%%\n"
    }
   }
  }
 ],
 "metadata": {
  "kernelspec": {
   "display_name": "Python 3",
   "language": "python",
   "name": "python3"
  },
  "language_info": {
   "codemirror_mode": {
    "name": "ipython",
    "version": 3
   },
   "file_extension": ".py",
   "mimetype": "text/x-python",
   "name": "python",
   "nbconvert_exporter": "python",
   "pygments_lexer": "ipython3",
   "version": "3.6.7"
  }
 },
 "nbformat": 4,
 "nbformat_minor": 2
}